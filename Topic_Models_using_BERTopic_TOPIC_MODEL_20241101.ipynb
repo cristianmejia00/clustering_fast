{
 "cells": [
  {
   "cell_type": "markdown",
   "metadata": {
    "colab_type": "text",
    "id": "view-in-github"
   },
   "source": [
    "<a href=\"https://colab.research.google.com/github/cristianmejia00/clustering/blob/main/Topic_Models_using_BERTopic_TOPIC_MODEL_20241101.ipynb\" target=\"_parent\"><img src=\"https://colab.research.google.com/assets/colab-badge.svg\" alt=\"Open In Colab\"/></a>"
   ]
  },
  {
   "cell_type": "markdown",
   "metadata": {
    "id": "Zj3lYckpO2Yn"
   },
   "source": [
    "# Topic Modeling with BERTopic\n",
    "\n",
    "🔴 copied from the [Kubota Colab](https://colab.research.google.com/drive/1YsDp5_qGXGJKsEXsS8DO8CA_lqZc6EpA).  \n",
    "\n",
    "`Topic Models` are methods to automatically organize a corpus of text into topics.\n",
    "\n",
    "Topic Model process:\n",
    "1. Data preparation\n",
    "2. Tranform text to numeric vectors\n",
    "3. Multidimensionality reduction\n",
    "4. Clustering\n",
    "5. Topic analysis\n",
    "6. Cluster assignation\n",
    "\n",
    "\n",
    "This notebook uses the library `BERTopic` which is a one-stop solution for topic modeling including handy functions for plotting and analysis. However, BERTopic does not have a function to extract the X and Y coords from UMAP. If we need the coordinates then use the notebooks `Topic_Models_using_Transformers` instead. In any other situation, when a quick analysis is needed this notebook may be better.\n",
    "\n",
    "This notebook is also the one needed for the heatmap codes included in this folder.\n",
    "\n",
    "`BERTopic` is Python library that handles steps 2 to 6.\n",
    "BERT topic models use the transformer architechture to generate the embeds (i.e. the vector or numeric representation of words) and are currently the state-of-the-art method for vectorization.\n",
    "\n",
    "This notebook shows how to use it.\n",
    "\n",
    "---\n",
    "Reading:\n",
    "[Topic Modeling with Deep Learning Using Python BERTopic](https://medium.com/grabngoinfo/topic-modeling-with-deep-learning-using-python-bertopic-cf91f5676504)\n",
    "[Advanced Topic Modeling with BERTopic](https://www.pinecone.io/learn/bertopic/)\n"
   ]
  },
  {
   "cell_type": "markdown",
   "metadata": {
    "id": "WlufmOowbHSF"
   },
   "source": [
    "# Requirements"
   ]
  },
  {
   "cell_type": "markdown",
   "metadata": {
    "id": "kFQU-BC5ReYd"
   },
   "source": [
    "## Packages installation and initialization"
   ]
  },
  {
   "cell_type": "code",
   "execution_count": 2,
   "metadata": {
    "colab": {
     "base_uri": "https://localhost:8080/"
    },
    "collapsed": true,
    "id": "ckx8hOIyRZvv",
    "outputId": "20e7642f-824b-4ba1-86cc-5a97c89670c5"
   },
   "outputs": [
    {
     "name": "stdout",
     "output_type": "stream",
     "text": [
      "zsh:1: no matches found: bertopic[visualization]\n"
     ]
    }
   ],
   "source": [
    "!pip install bertopic[visualization]"
   ]
  },
  {
   "cell_type": "code",
   "execution_count": 1,
   "metadata": {
    "id": "gMlZ_7DkOxGG"
   },
   "outputs": [
    {
     "name": "stderr",
     "output_type": "stream",
     "text": [
      "/Users/cristian/Desktop/GitHub/clustering/env-tm/lib/python3.11/site-packages/tqdm/auto.py:21: TqdmWarning: IProgress not found. Please update jupyter and ipywidgets. See https://ipywidgets.readthedocs.io/en/stable/user_install.html\n",
      "  from .autonotebook import tqdm as notebook_tqdm\n"
     ]
    }
   ],
   "source": [
    "import pandas as pd\n",
    "import numpy as np\n",
    "import time\n",
    "import math\n",
    "import uuid\n",
    "import re\n",
    "import os\n",
    "import json\n",
    "import pickle\n",
    "from datetime import date\n",
    "from itertools import compress\n",
    "from bertopic import BERTopic\n",
    "from umap import UMAP\n",
    "from gensim.parsing.preprocessing import remove_stopwords\n",
    "from sklearn.cluster import KMeans\n",
    "from sentence_transformers import SentenceTransformer"
   ]
  },
  {
   "cell_type": "markdown",
   "metadata": {
    "id": "SZ1BccaqRtS0"
   },
   "source": [
    "## Connect your Google Drive"
   ]
  },
  {
   "cell_type": "code",
   "execution_count": 2,
   "metadata": {
    "colab": {
     "base_uri": "https://localhost:8080/"
    },
    "id": "6os5BGPFRxfX",
    "outputId": "41e02c25-1dc9-426e-f441-874fc600fc70"
   },
   "outputs": [
    {
     "ename": "ModuleNotFoundError",
     "evalue": "No module named 'google'",
     "output_type": "error",
     "traceback": [
      "\u001b[0;31m---------------------------------------------------------------------------\u001b[0m",
      "\u001b[0;31mModuleNotFoundError\u001b[0m                       Traceback (most recent call last)",
      "Cell \u001b[0;32mIn[2], line 1\u001b[0m\n\u001b[0;32m----> 1\u001b[0m \u001b[38;5;28;01mfrom\u001b[39;00m \u001b[38;5;21;01mgoogle\u001b[39;00m\u001b[38;5;21;01m.\u001b[39;00m\u001b[38;5;21;01mcolab\u001b[39;00m \u001b[38;5;28;01mimport\u001b[39;00m drive\n\u001b[1;32m      2\u001b[0m drive\u001b[38;5;241m.\u001b[39mmount(\u001b[38;5;124m'\u001b[39m\u001b[38;5;124m/content/drive\u001b[39m\u001b[38;5;124m'\u001b[39m)\n",
      "\u001b[0;31mModuleNotFoundError\u001b[0m: No module named 'google'"
     ]
    }
   ],
   "source": [
    "from google.colab import drive\n",
    "drive.mount('/content/drive')"
   ]
  },
  {
   "cell_type": "code",
   "execution_count": 3,
   "metadata": {
    "id": "f2p9sY7sUYkU"
   },
   "outputs": [],
   "source": [
    "def find_e_keys(dictionary):\n",
    "    # List comprehension to find keys starting with 'e'\n",
    "    e_keys = [key for key in dictionary if str(key).lower().startswith('e')]\n",
    "    return e_keys"
   ]
  },
  {
   "cell_type": "markdown",
   "metadata": {
    "id": "dDm5-r5oR98q"
   },
   "source": [
    "# 🔴 Input files and options\n",
    "\n",
    "Go to your Google Drive and create a folder in the root directory. We are going to save all related data in that directory.\n",
    "Upload the dataset of news into the above folder.\n",
    "- The dataset should be a `.csv` file.\n",
    "- Every row in the dataset is a document\n",
    "- It can any kind of columns. Some columns must contain the text we want to analyze. For example, a dataset of academic articles may contain a \"Title\" and/or \"Abstract\" column."
   ]
  },
  {
   "cell_type": "code",
   "execution_count": 37,
   "metadata": {
    "id": "5ICq5zQbSJa8"
   },
   "outputs": [],
   "source": [
    "# The bibliometrics folder\n",
    "# Colab\n",
    "ROOT_FOLDER_PATH = \"drive/MyDrive/Bibliometrics_Drive\"\n",
    "\n",
    "# Mac\n",
    "ROOT_FOLDER_PATH = \"/Users/cristian/Library/CloudStorage/GoogleDrive-cristianmejia00@gmail.com/My Drive/Bibliometrics_Drive\"\n",
    "\n",
    "# Change to the name of the folder where the dataset is uploaded inside the above folder\n",
    "project_folder = 'Q319_sust_rice'\n",
    "\n",
    "analysis_id = 'a01_tm__f01_e01__km02'\n",
    "\n",
    "# Filtered label\n",
    "settings_directive = \"settings_analysis_directive_2024-12-18-21-48.json\""
   ]
  },
  {
   "cell_type": "code",
   "execution_count": 38,
   "metadata": {
    "id": "QpoR8P3O0ACf"
   },
   "outputs": [],
   "source": [
    "# Read settings\n",
    "with open(f'{ROOT_FOLDER_PATH}/{project_folder}/{analysis_id}/{settings_directive}', 'r') as file:\n",
    "    settings = json.load(file)"
   ]
  },
  {
   "cell_type": "code",
   "execution_count": 39,
   "metadata": {
    "id": "COh3zc3b2oAn"
   },
   "outputs": [],
   "source": [
    "# Input dataset\n",
    "dataset_file_path = f\"{ROOT_FOLDER_PATH}/{settings['metadata']['project_folder']}/{settings['metadata']['filtered_folder']}/dataset_raw_cleaned.csv\""
   ]
  },
  {
   "cell_type": "code",
   "execution_count": 40,
   "metadata": {
    "id": "biEFdxrm0WrO"
   },
   "outputs": [],
   "source": [
    "# Function to save files\n",
    "def save_as_csv(df, save_name_without_extension, with_index):\n",
    "    \"usage: `save_as_csv(dataframe, 'filename')`\"\n",
    "    df.to_csv(f\"{ROOT_FOLDER_PATH}/{save_name_without_extension}.csv\", index=with_index)\n",
    "    print(\"===\\nSaved: \", f\"{ROOT_FOLDER_PATH}/{save_name_without_extension}.csv\")"
   ]
  },
  {
   "cell_type": "code",
   "execution_count": 41,
   "metadata": {
    "id": "Ff7hQXE1dYDw"
   },
   "outputs": [],
   "source": [
    "# prompt: a function to save object to a pickle file\n",
    "def save_object_as_pickle(obj, filename):\n",
    "  \"\"\"\n",
    "  Saves an object as a pickle file.\n",
    "\n",
    "  Args:\n",
    "      obj: The object to be saved.\n",
    "      filename: The filename of the pickle file.\n",
    "  \"\"\"\n",
    "  with open(filename, \"wb\") as f:\n",
    "    pickle.dump(obj, f)\n"
   ]
  },
  {
   "cell_type": "code",
   "execution_count": 42,
   "metadata": {
    "id": "iljQe0_xb2FU"
   },
   "outputs": [],
   "source": [
    "# prompt: a function to load pickle object given a path\n",
    "def load_pickle(path):\n",
    "    with open(path, 'rb') as f:\n",
    "        return pickle.load(f)\n"
   ]
  },
  {
   "cell_type": "code",
   "execution_count": 43,
   "metadata": {
    "colab": {
     "base_uri": "https://localhost:8080/",
     "height": 655
    },
    "id": "Tob-4BIaUbZ9",
    "outputId": "d48eac6d-2af8-4991-af19-5bda2386e6bc"
   },
   "outputs": [
    {
     "name": "stdout",
     "output_type": "stream",
     "text": [
      "(3480, 42)\n"
     ]
    },
    {
     "data": {
      "text/html": [
       "<div>\n",
       "<style scoped>\n",
       "    .dataframe tbody tr th:only-of-type {\n",
       "        vertical-align: middle;\n",
       "    }\n",
       "\n",
       "    .dataframe tbody tr th {\n",
       "        vertical-align: top;\n",
       "    }\n",
       "\n",
       "    .dataframe thead th {\n",
       "        text-align: right;\n",
       "    }\n",
       "</style>\n",
       "<table border=\"1\" class=\"dataframe\">\n",
       "  <thead>\n",
       "    <tr style=\"text-align: right;\">\n",
       "      <th></th>\n",
       "      <th>X_N</th>\n",
       "      <th>uuid</th>\n",
       "      <th>PT</th>\n",
       "      <th>AU</th>\n",
       "      <th>AF</th>\n",
       "      <th>TI</th>\n",
       "      <th>SO</th>\n",
       "      <th>LA</th>\n",
       "      <th>DT</th>\n",
       "      <th>DE</th>\n",
       "      <th>...</th>\n",
       "      <th>AR</th>\n",
       "      <th>DI</th>\n",
       "      <th>PG</th>\n",
       "      <th>WC</th>\n",
       "      <th>SC</th>\n",
       "      <th>OA</th>\n",
       "      <th>UT</th>\n",
       "      <th>Countries</th>\n",
       "      <th>IsoCountries</th>\n",
       "      <th>Institutions</th>\n",
       "    </tr>\n",
       "  </thead>\n",
       "  <tbody>\n",
       "    <tr>\n",
       "      <th>0</th>\n",
       "      <td>1</td>\n",
       "      <td>541274e8-5e4e-49fd-ac27-cfecb10be780</td>\n",
       "      <td>J</td>\n",
       "      <td>Xie, EZ; Zhang, YX; Huang, B; Zhao, YC; Shi, X...</td>\n",
       "      <td>Xie, Enze; Zhang, Yanxia; Huang, Biao; Zhao, Y...</td>\n",
       "      <td>Spatiotemporal variations in soil organic carb...</td>\n",
       "      <td>SOIL &amp; TILLAGE RESEARCH</td>\n",
       "      <td>English</td>\n",
       "      <td>Article</td>\n",
       "      <td>Soil organic carbon; Drivers of SOC; Land use ...</td>\n",
       "      <td>...</td>\n",
       "      <td>104763</td>\n",
       "      <td>10.1016/j.still.2020.104763</td>\n",
       "      <td>11</td>\n",
       "      <td>Soil Science</td>\n",
       "      <td>Agriculture</td>\n",
       "      <td>NaN</td>\n",
       "      <td>WOS:000582696400017</td>\n",
       "      <td>peoples r china</td>\n",
       "      <td>CHN</td>\n",
       "      <td>chinese acad sci; univ chinese acad sci; nanji...</td>\n",
       "    </tr>\n",
       "    <tr>\n",
       "      <th>1</th>\n",
       "      <td>2</td>\n",
       "      <td>f79bc6f6-59ec-4773-8f1c-595f7ddc0f9b</td>\n",
       "      <td>J</td>\n",
       "      <td>Ding, MJ; Guan, QH; Li, LH; Zhang, HM; Liu, C;...</td>\n",
       "      <td>Ding, Mingjun; Guan, Qihui; Li, Lanhui; Zhang,...</td>\n",
       "      <td>Phenology-Based Rice Paddy Mapping Using Multi...</td>\n",
       "      <td>REMOTE SENSING</td>\n",
       "      <td>English</td>\n",
       "      <td>Article</td>\n",
       "      <td>rice paddies; Landsat; MODIS; fusion algorithm...</td>\n",
       "      <td>...</td>\n",
       "      <td>1022</td>\n",
       "      <td>10.3390/rs12061022</td>\n",
       "      <td>18</td>\n",
       "      <td>Environmental Sciences; Geosciences, Multidisc...</td>\n",
       "      <td>Environmental Sciences &amp; Ecology; Geology; Rem...</td>\n",
       "      <td>gold</td>\n",
       "      <td>WOS:000526820600124</td>\n",
       "      <td>peoples r china</td>\n",
       "      <td>CHN</td>\n",
       "      <td>jiangxi normal univ; xiamen univ technol; sun ...</td>\n",
       "    </tr>\n",
       "    <tr>\n",
       "      <th>2</th>\n",
       "      <td>3</td>\n",
       "      <td>f6464579-084d-4f17-9052-464ce88bf459</td>\n",
       "      <td>J</td>\n",
       "      <td>Masuda, K</td>\n",
       "      <td>Masuda, Kiyotaka</td>\n",
       "      <td>Eco-Efficiency Assessment of Intensive Rice Pr...</td>\n",
       "      <td>SUSTAINABILITY</td>\n",
       "      <td>English</td>\n",
       "      <td>Article</td>\n",
       "      <td>eco-efficiency; life cycle assessment; global ...</td>\n",
       "      <td>...</td>\n",
       "      <td>5368</td>\n",
       "      <td>10.3390/su11195368</td>\n",
       "      <td>14</td>\n",
       "      <td>Green &amp; Sustainable Science &amp; Technology; Envi...</td>\n",
       "      <td>Science &amp; Technology - Other Topics; Environme...</td>\n",
       "      <td>Green Published, gold</td>\n",
       "      <td>WOS:000493525500227</td>\n",
       "      <td>japan</td>\n",
       "      <td>JPN</td>\n",
       "      <td>univ shiga prefecture</td>\n",
       "    </tr>\n",
       "    <tr>\n",
       "      <th>3</th>\n",
       "      <td>4</td>\n",
       "      <td>d7436b41-8ad3-4f4a-a934-40af5a47e9d4</td>\n",
       "      <td>J</td>\n",
       "      <td>Malyan, SK; Bhatia, A; Kumar, SS; Fagodiya, RK...</td>\n",
       "      <td>Malyan, Sandeep K.; Bhatia, Arti; Kumar, Smita...</td>\n",
       "      <td>Mitigation of greenhouse gas intensity by supp...</td>\n",
       "      <td>BIOCATALYSIS AND AGRICULTURAL BIOTECHNOLOGY</td>\n",
       "      <td>English</td>\n",
       "      <td>Article</td>\n",
       "      <td>Rice; Azolla; Methane; Nitrous oxide; Yield-sc...</td>\n",
       "      <td>...</td>\n",
       "      <td>101266</td>\n",
       "      <td>10.1016/j.bcab.2019.101266</td>\n",
       "      <td>8</td>\n",
       "      <td>Biotechnology &amp; Applied Microbiology</td>\n",
       "      <td>Biotechnology &amp; Applied Microbiology</td>\n",
       "      <td>NaN</td>\n",
       "      <td>WOS:000493911600089</td>\n",
       "      <td>india; vietnam; israel</td>\n",
       "      <td>IND; VNM; ISR</td>\n",
       "      <td>icar indian agr res inst; indian inst technol ...</td>\n",
       "    </tr>\n",
       "    <tr>\n",
       "      <th>4</th>\n",
       "      <td>5</td>\n",
       "      <td>d1e361d9-aefd-498c-833c-a84705c30488</td>\n",
       "      <td>J</td>\n",
       "      <td>Srivastava, P; Gupta, S; Garaniya, V; Abbassi,...</td>\n",
       "      <td>Srivastava, Pratiksha; Gupta, Supriya; Garaniy...</td>\n",
       "      <td>Up to 399mV bioelectricity generated by a rice...</td>\n",
       "      <td>ENVIRONMENTAL CHEMISTRY LETTERS</td>\n",
       "      <td>English</td>\n",
       "      <td>Article</td>\n",
       "      <td>Plant microbial fuel cell; Microbial fuel cell...</td>\n",
       "      <td>...</td>\n",
       "      <td>NaN</td>\n",
       "      <td>10.1007/s10311-018-00824-2</td>\n",
       "      <td>7</td>\n",
       "      <td>Chemistry, Multidisciplinary; Engineering, Env...</td>\n",
       "      <td>Chemistry; Engineering; Environmental Sciences...</td>\n",
       "      <td>NaN</td>\n",
       "      <td>WOS:000468974600029</td>\n",
       "      <td>australia; india</td>\n",
       "      <td>AUS; IND</td>\n",
       "      <td>univ tasmania; macquarie univ; csir inst miner...</td>\n",
       "    </tr>\n",
       "  </tbody>\n",
       "</table>\n",
       "<p>5 rows × 42 columns</p>\n",
       "</div>"
      ],
      "text/plain": [
       "   X_N                                  uuid PT  \\\n",
       "0    1  541274e8-5e4e-49fd-ac27-cfecb10be780  J   \n",
       "1    2  f79bc6f6-59ec-4773-8f1c-595f7ddc0f9b  J   \n",
       "2    3  f6464579-084d-4f17-9052-464ce88bf459  J   \n",
       "3    4  d7436b41-8ad3-4f4a-a934-40af5a47e9d4  J   \n",
       "4    5  d1e361d9-aefd-498c-833c-a84705c30488  J   \n",
       "\n",
       "                                                  AU  \\\n",
       "0  Xie, EZ; Zhang, YX; Huang, B; Zhao, YC; Shi, X...   \n",
       "1  Ding, MJ; Guan, QH; Li, LH; Zhang, HM; Liu, C;...   \n",
       "2                                          Masuda, K   \n",
       "3  Malyan, SK; Bhatia, A; Kumar, SS; Fagodiya, RK...   \n",
       "4  Srivastava, P; Gupta, S; Garaniya, V; Abbassi,...   \n",
       "\n",
       "                                                  AF  \\\n",
       "0  Xie, Enze; Zhang, Yanxia; Huang, Biao; Zhao, Y...   \n",
       "1  Ding, Mingjun; Guan, Qihui; Li, Lanhui; Zhang,...   \n",
       "2                                   Masuda, Kiyotaka   \n",
       "3  Malyan, Sandeep K.; Bhatia, Arti; Kumar, Smita...   \n",
       "4  Srivastava, Pratiksha; Gupta, Supriya; Garaniy...   \n",
       "\n",
       "                                                  TI  \\\n",
       "0  Spatiotemporal variations in soil organic carb...   \n",
       "1  Phenology-Based Rice Paddy Mapping Using Multi...   \n",
       "2  Eco-Efficiency Assessment of Intensive Rice Pr...   \n",
       "3  Mitigation of greenhouse gas intensity by supp...   \n",
       "4  Up to 399mV bioelectricity generated by a rice...   \n",
       "\n",
       "                                            SO       LA       DT  \\\n",
       "0                      SOIL & TILLAGE RESEARCH  English  Article   \n",
       "1                               REMOTE SENSING  English  Article   \n",
       "2                               SUSTAINABILITY  English  Article   \n",
       "3  BIOCATALYSIS AND AGRICULTURAL BIOTECHNOLOGY  English  Article   \n",
       "4              ENVIRONMENTAL CHEMISTRY LETTERS  English  Article   \n",
       "\n",
       "                                                  DE  ...      AR  \\\n",
       "0  Soil organic carbon; Drivers of SOC; Land use ...  ...  104763   \n",
       "1  rice paddies; Landsat; MODIS; fusion algorithm...  ...    1022   \n",
       "2  eco-efficiency; life cycle assessment; global ...  ...    5368   \n",
       "3  Rice; Azolla; Methane; Nitrous oxide; Yield-sc...  ...  101266   \n",
       "4  Plant microbial fuel cell; Microbial fuel cell...  ...     NaN   \n",
       "\n",
       "                            DI  PG  \\\n",
       "0  10.1016/j.still.2020.104763  11   \n",
       "1           10.3390/rs12061022  18   \n",
       "2           10.3390/su11195368  14   \n",
       "3   10.1016/j.bcab.2019.101266   8   \n",
       "4   10.1007/s10311-018-00824-2   7   \n",
       "\n",
       "                                                  WC  \\\n",
       "0                                       Soil Science   \n",
       "1  Environmental Sciences; Geosciences, Multidisc...   \n",
       "2  Green & Sustainable Science & Technology; Envi...   \n",
       "3               Biotechnology & Applied Microbiology   \n",
       "4  Chemistry, Multidisciplinary; Engineering, Env...   \n",
       "\n",
       "                                                  SC                     OA  \\\n",
       "0                                        Agriculture                    NaN   \n",
       "1  Environmental Sciences & Ecology; Geology; Rem...                   gold   \n",
       "2  Science & Technology - Other Topics; Environme...  Green Published, gold   \n",
       "3               Biotechnology & Applied Microbiology                    NaN   \n",
       "4  Chemistry; Engineering; Environmental Sciences...                    NaN   \n",
       "\n",
       "                    UT               Countries   IsoCountries  \\\n",
       "0  WOS:000582696400017         peoples r china            CHN   \n",
       "1  WOS:000526820600124         peoples r china            CHN   \n",
       "2  WOS:000493525500227                   japan            JPN   \n",
       "3  WOS:000493911600089  india; vietnam; israel  IND; VNM; ISR   \n",
       "4  WOS:000468974600029        australia; india       AUS; IND   \n",
       "\n",
       "                                        Institutions  \n",
       "0  chinese acad sci; univ chinese acad sci; nanji...  \n",
       "1  jiangxi normal univ; xiamen univ technol; sun ...  \n",
       "2                              univ shiga prefecture  \n",
       "3  icar indian agr res inst; indian inst technol ...  \n",
       "4  univ tasmania; macquarie univ; csir inst miner...  \n",
       "\n",
       "[5 rows x 42 columns]"
      ]
     },
     "execution_count": 43,
     "metadata": {},
     "output_type": "execute_result"
    }
   ],
   "source": [
    "# Open the data file\n",
    "df = pd.read_csv(f\"{dataset_file_path}\")\n",
    "print(df.shape)\n",
    "df.head()"
   ]
  },
  {
   "cell_type": "markdown",
   "metadata": {
    "id": "9UrPiLepN1s9"
   },
   "source": [
    "\n",
    "\n",
    "---\n",
    "\n"
   ]
  },
  {
   "cell_type": "markdown",
   "metadata": {
    "id": "eK-U-Sl8fc-m"
   },
   "source": [
    "## PART 2: Topic Model"
   ]
  },
  {
   "cell_type": "code",
   "execution_count": 44,
   "metadata": {
    "id": "FhwGnBjFQT4x"
   },
   "outputs": [],
   "source": [
    "# bibliometrics_folder\n",
    "# project_folder\n",
    "# project_name_suffix\n",
    "# ROOT_FOLDER_PATH = f\"drive/MyDrive/{bibliometrics_folder}\"\n",
    "\n",
    "#############################################################\n",
    "# Embeddings folder\n",
    "embeddings_folder_name = settings['tmo']['embeds_folder']\n",
    "\n",
    "# Which column has the year of the documents?\n",
    "my_year = settings['tmo']['year_column']\n",
    "\n",
    "# Number of topics. Select the number of topics to extract.\n",
    "# Choose 0, for automatic detection.\n",
    "n_topics = settings['tmo']['n_topics']\n",
    "\n",
    "# Minimum number of documents per topic\n",
    "min_topic_size = settings['tmo']['min_topic_size']"
   ]
  },
  {
   "cell_type": "code",
   "execution_count": 45,
   "metadata": {
    "id": "9RYSioo2cxxC"
   },
   "outputs": [],
   "source": [
    "# Get the embeddings back.\n",
    "embeddings = load_pickle(f\"{ROOT_FOLDER_PATH}/{project_folder}/{settings['metadata']['filtered_folder']}/{embeddings_folder_name}/embeddings.pck\")\n",
    "corpus =     pd.read_csv(f\"{ROOT_FOLDER_PATH}/{project_folder}/{settings['metadata']['filtered_folder']}/{embeddings_folder_name}/corpus.csv\").reset_index(drop=True)"
   ]
  },
  {
   "cell_type": "code",
   "execution_count": 46,
   "metadata": {
    "id": "injCV_IPN26L"
   },
   "outputs": [],
   "source": [
    "# Combine embeddings\n",
    "documents = corpus.text.to_list()"
   ]
  },
  {
   "cell_type": "code",
   "execution_count": 47,
   "metadata": {
    "id": "ve_oloYNrBLz"
   },
   "outputs": [],
   "source": [
    "# corpus['uuid'] = [uuid.uuid4() for _ in range(len(corpus.index))]\n",
    "# corpus['X_N'] = [i for i in range(1, len(corpus.index)+1)]"
   ]
  },
  {
   "cell_type": "code",
   "execution_count": 48,
   "metadata": {
    "colab": {
     "base_uri": "https://localhost:8080/"
    },
    "id": "onVFOjBZuMmJ",
    "outputId": "4898b936-f4ea-4a7d-8448-a65466de85f2"
   },
   "outputs": [
    {
     "data": {
      "text/plain": [
       "3480"
      ]
     },
     "execution_count": 48,
     "metadata": {},
     "output_type": "execute_result"
    }
   ],
   "source": [
    "len(documents)"
   ]
  },
  {
   "cell_type": "code",
   "execution_count": 49,
   "metadata": {
    "colab": {
     "base_uri": "https://localhost:8080/"
    },
    "id": "S7LeuG_7S4Db",
    "outputId": "4e27c106-2e0c-4630-a741-2fbd5e5512b0"
   },
   "outputs": [
    {
     "data": {
      "text/plain": [
       "True"
      ]
     },
     "execution_count": 49,
     "metadata": {},
     "output_type": "execute_result"
    }
   ],
   "source": [
    "#len(embeddings) == len(documents)\n",
    "len(embeddings['embeddings']) == len(documents)"
   ]
  },
  {
   "cell_type": "code",
   "execution_count": 50,
   "metadata": {
    "id": "n6qUvhGGcPZo"
   },
   "outputs": [],
   "source": [
    "from hdbscan.hdbscan_ import HDBSCAN\n",
    "# Execute the topic model.\n",
    "# I suggest changing the values marked with #<---\n",
    "# The others are the default values and they'll work fine in most cases.\n",
    "# This will take several minutes to finish.\n",
    "\n",
    "# Initiate UMAP\n",
    "umap_model = UMAP(n_neighbors=15,\n",
    "                  n_components=5,\n",
    "                  min_dist=0.0,\n",
    "                  metric='cosine',\n",
    "                  random_state=100)\n",
    "\n",
    "if n_topics == 0:\n",
    "  # Initiate topic model with HDBScan (Automatic topic selection)\n",
    "  topic_model_params = HDBSCAN(min_cluster_size=min_topic_size,\n",
    "                               metric='euclidean',\n",
    "                               cluster_selection_method='eom',\n",
    "                               prediction_data=True)\n",
    "else:\n",
    "  # Initiate topic model with K-means (Manual topic selection)\n",
    "  topic_model_params = KMeans(n_clusters = n_topics)\n",
    "\n",
    "# Initiate BERTopic\n",
    "topic_model = BERTopic(umap_model = umap_model,\n",
    "                       hdbscan_model = topic_model_params,\n",
    "                       min_topic_size=min_topic_size,\n",
    "                       #nr_topics=15,          #<--- Footnote 1\n",
    "                       n_gram_range=(1,3),\n",
    "                       language='english',\n",
    "                       calculate_probabilities=True,\n",
    "                       verbose=True)\n",
    "\n",
    "\n",
    "\n",
    "# Footnote 1: This controls the number of topics we want AFTER clustering.\n",
    "# Add a hashtag at the beggining to use the number of topics returned by the topic model.\n",
    "# When using HDBScan nr_topics will be obtained after orphans removal, and there is no warranty that `nr_topics < HDBScan topics`.\n",
    "# thus, with HDBScan `nr_topics` means N topics OR LESS.\n",
    "# When using KMeans nr_topics can be used to further reduce the number of topics.\n",
    "# We use the topics as returned by the topic model. So we do not need to activate it here."
   ]
  },
  {
   "cell_type": "code",
   "execution_count": 51,
   "metadata": {
    "colab": {
     "base_uri": "https://localhost:8080/"
    },
    "id": "FQQsmPGzUCuB",
    "outputId": "a2b43bac-051a-4599-ad04-a36b1a575a26"
   },
   "outputs": [
    {
     "name": "stderr",
     "output_type": "stream",
     "text": [
      "2024-12-18 21:49:20,233 - BERTopic - Dimensionality - Fitting the dimensionality reduction algorithm\n",
      "2024-12-18 21:49:29,559 - BERTopic - Dimensionality - Completed ✓\n",
      "2024-12-18 21:49:29,560 - BERTopic - Cluster - Start clustering the reduced embeddings\n",
      "2024-12-18 21:49:29,866 - BERTopic - Cluster - Completed ✓\n",
      "2024-12-18 21:49:29,870 - BERTopic - Representation - Extracting topics from clusters using representation models.\n",
      "2024-12-18 21:49:33,313 - BERTopic - Representation - Completed ✓\n"
     ]
    }
   ],
   "source": [
    "# Compute topic model\n",
    "#topics, probabilities = topic_model.fit_transform(documents, embeddings)\n",
    "topics, probabilities = topic_model.fit_transform(documents, embeddings['embeddings'])"
   ]
  },
  {
   "cell_type": "code",
   "execution_count": 52,
   "metadata": {
    "colab": {
     "base_uri": "https://localhost:8080/",
     "height": 424
    },
    "id": "67pgsMtwsFmH",
    "outputId": "82c86e95-6be7-4832-a076-94d8d9dcd8ae"
   },
   "outputs": [
    {
     "data": {
      "text/html": [
       "<div>\n",
       "<style scoped>\n",
       "    .dataframe tbody tr th:only-of-type {\n",
       "        vertical-align: middle;\n",
       "    }\n",
       "\n",
       "    .dataframe tbody tr th {\n",
       "        vertical-align: top;\n",
       "    }\n",
       "\n",
       "    .dataframe thead th {\n",
       "        text-align: right;\n",
       "    }\n",
       "</style>\n",
       "<table border=\"1\" class=\"dataframe\">\n",
       "  <thead>\n",
       "    <tr style=\"text-align: right;\">\n",
       "      <th></th>\n",
       "      <th>Topic</th>\n",
       "      <th>Count</th>\n",
       "      <th>Name</th>\n",
       "      <th>Representation</th>\n",
       "      <th>Representative_Docs</th>\n",
       "    </tr>\n",
       "  </thead>\n",
       "  <tbody>\n",
       "    <tr>\n",
       "      <th>0</th>\n",
       "      <td>0</td>\n",
       "      <td>131</td>\n",
       "      <td>0_the_and_data_of</td>\n",
       "      <td>[the, and, data, of, to, rice, mapping, in, fo...</td>\n",
       "      <td>[Phenology-Based Rice Paddy Mapping Using Mult...</td>\n",
       "    </tr>\n",
       "    <tr>\n",
       "      <th>1</th>\n",
       "      <td>1</td>\n",
       "      <td>116</td>\n",
       "      <td>1_grazing_of_the_and</td>\n",
       "      <td>[grazing, of, the, and, to, in, pasture, manag...</td>\n",
       "      <td>[Balancing animal, pasture and environmental o...</td>\n",
       "    </tr>\n",
       "    <tr>\n",
       "      <th>2</th>\n",
       "      <td>2</td>\n",
       "      <td>101</td>\n",
       "      <td>2_cd_and_soil_the</td>\n",
       "      <td>[cd, and, soil, the, of, in, heavy, cadmium, r...</td>\n",
       "      <td>[Vermicompost Supply Enhances Fragrant-Rice Yi...</td>\n",
       "    </tr>\n",
       "    <tr>\n",
       "      <th>3</th>\n",
       "      <td>3</td>\n",
       "      <td>101</td>\n",
       "      <td>3_biochar_and_soil_of biochar</td>\n",
       "      <td>[biochar, and, soil, of biochar, of, the, in, ...</td>\n",
       "      <td>[Comparative Metagenomics Reveals Enhanced Nut...</td>\n",
       "    </tr>\n",
       "    <tr>\n",
       "      <th>4</th>\n",
       "      <td>4</td>\n",
       "      <td>99</td>\n",
       "      <td>4_soil_bacterial_microbial_community</td>\n",
       "      <td>[soil, bacterial, microbial, community, and, t...</td>\n",
       "      <td>[Changes in soil bacterial community and enzym...</td>\n",
       "    </tr>\n",
       "    <tr>\n",
       "      <th>5</th>\n",
       "      <td>5</td>\n",
       "      <td>95</td>\n",
       "      <td>5_farmers_the_of_to</td>\n",
       "      <td>[farmers, the, of, to, and, in, adoption, for,...</td>\n",
       "      <td>[The ironies of new innovation and the sunset ...</td>\n",
       "    </tr>\n",
       "    <tr>\n",
       "      <th>6</th>\n",
       "      <td>6</td>\n",
       "      <td>94</td>\n",
       "      <td>6_rice_and_of_the</td>\n",
       "      <td>[rice, and, of, the, in, to, yield, for, crop,...</td>\n",
       "      <td>[Meeting the challenges of global rice product...</td>\n",
       "    </tr>\n",
       "    <tr>\n",
       "      <th>7</th>\n",
       "      <td>7</td>\n",
       "      <td>93</td>\n",
       "      <td>7_emissions_and_the_ch4</td>\n",
       "      <td>[emissions, and, the, ch4, in, n2o, of, ghg, r...</td>\n",
       "      <td>[Advancing effective methods for mitigating gr...</td>\n",
       "    </tr>\n",
       "    <tr>\n",
       "      <th>8</th>\n",
       "      <td>8</td>\n",
       "      <td>87</td>\n",
       "      <td>8_and_of_the_yield</td>\n",
       "      <td>[and, of, the, yield, rice, soil, in, fertiliz...</td>\n",
       "      <td>[Manure applications combined with chemical fe...</td>\n",
       "    </tr>\n",
       "    <tr>\n",
       "      <th>9</th>\n",
       "      <td>9</td>\n",
       "      <td>86</td>\n",
       "      <td>9_soil_organic_and_of</td>\n",
       "      <td>[soil, organic, and, of, carbon, the, in, soc,...</td>\n",
       "      <td>[Organic fertilizer made from food waste impro...</td>\n",
       "    </tr>\n",
       "    <tr>\n",
       "      <th>10</th>\n",
       "      <td>10</td>\n",
       "      <td>85</td>\n",
       "      <td>10_the_and_grazing_of</td>\n",
       "      <td>[the, and, grazing, of, in, pasture, to, was, ...</td>\n",
       "      <td>[Low-Intensity, High-Frequency Grazing Strateg...</td>\n",
       "    </tr>\n",
       "    <tr>\n",
       "      <th>11</th>\n",
       "      <td>11</td>\n",
       "      <td>82</td>\n",
       "      <td>11_weed_and_of_the</td>\n",
       "      <td>[weed, and, of, the, in, rice, weeds, to, herb...</td>\n",
       "      <td>[Morphological Traits Associated with Competit...</td>\n",
       "    </tr>\n",
       "    <tr>\n",
       "      <th>12</th>\n",
       "      <td>12</td>\n",
       "      <td>82</td>\n",
       "      <td>12_the_of_and_to</td>\n",
       "      <td>[the, of, and, to, farmers, in, farming, clima...</td>\n",
       "      <td>[Building climate-resilient food systems in sr...</td>\n",
       "    </tr>\n",
       "    <tr>\n",
       "      <th>13</th>\n",
       "      <td>13</td>\n",
       "      <td>80</td>\n",
       "      <td>13_water_the_groundwater_of</td>\n",
       "      <td>[water, the, groundwater, of, irrigation, in, ...</td>\n",
       "      <td>[Groundwater Modeling for Sustainable Resource...</td>\n",
       "    </tr>\n",
       "    <tr>\n",
       "      <th>14</th>\n",
       "      <td>14</td>\n",
       "      <td>79</td>\n",
       "      <td>14_land_the_of_and</td>\n",
       "      <td>[land, the, of, and, in, china, to, paddy, cul...</td>\n",
       "      <td>[Spatial-Temporal Change in Paddy Field and Dr...</td>\n",
       "    </tr>\n",
       "    <tr>\n",
       "      <th>15</th>\n",
       "      <td>15</td>\n",
       "      <td>78</td>\n",
       "      <td>15_the_of_and_in</td>\n",
       "      <td>[the, of, and, in, to, land, forest, for, is, on]</td>\n",
       "      <td>[EMISSION REDUCTION OPTIONS FOR PEATLANDS IN T...</td>\n",
       "    </tr>\n",
       "    <tr>\n",
       "      <th>16</th>\n",
       "      <td>16</td>\n",
       "      <td>76</td>\n",
       "      <td>16_the_water_groundwater_of</td>\n",
       "      <td>[the, water, groundwater, of, and, in, land, t...</td>\n",
       "      <td>[Impact of Groundwater Abstraction on Hydrolog...</td>\n",
       "    </tr>\n",
       "    <tr>\n",
       "      <th>17</th>\n",
       "      <td>17</td>\n",
       "      <td>74</td>\n",
       "      <td>17_nitrogen_fertilizer_and_the</td>\n",
       "      <td>[nitrogen, fertilizer, and, the, of, rice, in,...</td>\n",
       "      <td>[The optimized nitrogen rate reduced ammonia e...</td>\n",
       "    </tr>\n",
       "    <tr>\n",
       "      <th>18</th>\n",
       "      <td>18</td>\n",
       "      <td>72</td>\n",
       "      <td>18_energy_the_and_of</td>\n",
       "      <td>[energy, the, and, of, production, in, to, ric...</td>\n",
       "      <td>[Evaluation of energy balance and greenhouse g...</td>\n",
       "    </tr>\n",
       "    <tr>\n",
       "      <th>19</th>\n",
       "      <td>19</td>\n",
       "      <td>70</td>\n",
       "      <td>19_of_the_rice_in</td>\n",
       "      <td>[of, the, rice, in, and, to, pest, insects, as...</td>\n",
       "      <td>[An entomopathogenic fungus and a natural extr...</td>\n",
       "    </tr>\n",
       "    <tr>\n",
       "      <th>20</th>\n",
       "      <td>20</td>\n",
       "      <td>67</td>\n",
       "      <td>20_soil_tillage_and_the</td>\n",
       "      <td>[soil, tillage, and, the, in, of, rice, straw,...</td>\n",
       "      <td>[The Effects of Tillage and Straw Incorporatio...</td>\n",
       "    </tr>\n",
       "    <tr>\n",
       "      <th>21</th>\n",
       "      <td>21</td>\n",
       "      <td>65</td>\n",
       "      <td>21_the_of_to_and</td>\n",
       "      <td>[the, of, to, and, in, rice, paddy, farming, f...</td>\n",
       "      <td>[\"One must do, five reductions\" technical prac...</td>\n",
       "    </tr>\n",
       "    <tr>\n",
       "      <th>22</th>\n",
       "      <td>22</td>\n",
       "      <td>65</td>\n",
       "      <td>22_rice_and_the_of</td>\n",
       "      <td>[rice, and, the, of, under, in, yield, to, cul...</td>\n",
       "      <td>[High Nitrogen Fertilization Modulates Morpho-...</td>\n",
       "    </tr>\n",
       "    <tr>\n",
       "      <th>23</th>\n",
       "      <td>23</td>\n",
       "      <td>64</td>\n",
       "      <td>23_the_of_rice_and</td>\n",
       "      <td>[the, of, rice, and, in, production, to, farme...</td>\n",
       "      <td>[Economic and environmental indicators of sust...</td>\n",
       "    </tr>\n",
       "    <tr>\n",
       "      <th>24</th>\n",
       "      <td>24</td>\n",
       "      <td>61</td>\n",
       "      <td>24_water_irrigation_and_rice</td>\n",
       "      <td>[water, irrigation, and, rice, awd, the, in, y...</td>\n",
       "      <td>[Growth, yield and water productivity of dry d...</td>\n",
       "    </tr>\n",
       "    <tr>\n",
       "      <th>25</th>\n",
       "      <td>25</td>\n",
       "      <td>60</td>\n",
       "      <td>25_the_of_and_to</td>\n",
       "      <td>[the, of, and, to, in, landscape, cultural, se...</td>\n",
       "      <td>[Tourist preferences for agricultural landscap...</td>\n",
       "    </tr>\n",
       "    <tr>\n",
       "      <th>26</th>\n",
       "      <td>26</td>\n",
       "      <td>59</td>\n",
       "      <td>26_soil_and_the_in</td>\n",
       "      <td>[soil, and, the, in, of, fertility, nutrient, ...</td>\n",
       "      <td>[Biological soil conditioner with reduced rate...</td>\n",
       "    </tr>\n",
       "    <tr>\n",
       "      <th>27</th>\n",
       "      <td>27</td>\n",
       "      <td>59</td>\n",
       "      <td>27_soil_soc_carbon_and</td>\n",
       "      <td>[soil, soc, carbon, and, in, the, of, organic,...</td>\n",
       "      <td>[Opportunities and Challenges of Soil Carbon S...</td>\n",
       "    </tr>\n",
       "    <tr>\n",
       "      <th>28</th>\n",
       "      <td>28</td>\n",
       "      <td>58</td>\n",
       "      <td>28_the_water_and_runoff</td>\n",
       "      <td>[the, water, and, runoff, of, in, drainage, to...</td>\n",
       "      <td>[Paddy water managements for diffuse nitrogen ...</td>\n",
       "    </tr>\n",
       "    <tr>\n",
       "      <th>29</th>\n",
       "      <td>29</td>\n",
       "      <td>57</td>\n",
       "      <td>29_soil_quality_the_and</td>\n",
       "      <td>[soil, quality, the, and, soil quality, in, of...</td>\n",
       "      <td>[Soil quality assessment of yellow clayey padd...</td>\n",
       "    </tr>\n",
       "    <tr>\n",
       "      <th>30</th>\n",
       "      <td>30</td>\n",
       "      <td>53</td>\n",
       "      <td>30_and_of_the_in</td>\n",
       "      <td>[and, of, the, in, nitrogen, rice, cyanobacter...</td>\n",
       "      <td>[Problems and prospects of cyanobacterial biof...</td>\n",
       "    </tr>\n",
       "    <tr>\n",
       "      <th>31</th>\n",
       "      <td>31</td>\n",
       "      <td>53</td>\n",
       "      <td>31_pasture_of_grazing_and</td>\n",
       "      <td>[pasture, of, grazing, and, the, was, in, padd...</td>\n",
       "      <td>[Impacts of level of utilisation by grazing on...</td>\n",
       "    </tr>\n",
       "    <tr>\n",
       "      <th>32</th>\n",
       "      <td>32</td>\n",
       "      <td>52</td>\n",
       "      <td>32_soil_phosphorus_and_the</td>\n",
       "      <td>[soil, phosphorus, and, the, in, of, soils, to...</td>\n",
       "      <td>[Rice-duck co-culture integrated different fer...</td>\n",
       "    </tr>\n",
       "    <tr>\n",
       "      <th>33</th>\n",
       "      <td>33</td>\n",
       "      <td>52</td>\n",
       "      <td>33_straw_paddy straw_of_the</td>\n",
       "      <td>[straw, paddy straw, of, the, and, to, paddy, ...</td>\n",
       "      <td>[A review on bioprocessing of paddy straw to e...</td>\n",
       "    </tr>\n",
       "    <tr>\n",
       "      <th>34</th>\n",
       "      <td>34</td>\n",
       "      <td>51</td>\n",
       "      <td>34_water_the_and_climate</td>\n",
       "      <td>[water, the, and, climate, of, to, in, for, ir...</td>\n",
       "      <td>[A high-resolution assessment of climate chang...</td>\n",
       "    </tr>\n",
       "    <tr>\n",
       "      <th>35</th>\n",
       "      <td>35</td>\n",
       "      <td>51</td>\n",
       "      <td>35_of_the_and_protected</td>\n",
       "      <td>[of, the, and, protected, to, we, forest, in, ...</td>\n",
       "      <td>[Half century of protected area dynamism in th...</td>\n",
       "    </tr>\n",
       "    <tr>\n",
       "      <th>36</th>\n",
       "      <td>36</td>\n",
       "      <td>50</td>\n",
       "      <td>36_straw_burning_residue_of</td>\n",
       "      <td>[straw, burning, residue, of, the, rice straw,...</td>\n",
       "      <td>[Environmental sustainability of bioethanol pr...</td>\n",
       "    </tr>\n",
       "    <tr>\n",
       "      <th>37</th>\n",
       "      <td>37</td>\n",
       "      <td>49</td>\n",
       "      <td>37_energy_the_of_drying</td>\n",
       "      <td>[energy, the, of, drying, is, and, husk, for, ...</td>\n",
       "      <td>[Exergetic Evaluation of a Biomass Gasifier op...</td>\n",
       "    </tr>\n",
       "    <tr>\n",
       "      <th>38</th>\n",
       "      <td>38</td>\n",
       "      <td>46</td>\n",
       "      <td>38_arsenic_as_in_and</td>\n",
       "      <td>[arsenic, as, in, and, rice, of, the, of as, t...</td>\n",
       "      <td>[Mitigation of arsenic toxicity in rice grain ...</td>\n",
       "    </tr>\n",
       "    <tr>\n",
       "      <th>39</th>\n",
       "      <td>39</td>\n",
       "      <td>45</td>\n",
       "      <td>39_ch4_emissions_methane_rice</td>\n",
       "      <td>[ch4, emissions, methane, rice, ch4 emissions,...</td>\n",
       "      <td>[Integrating low levels of organic fertilizer ...</td>\n",
       "    </tr>\n",
       "    <tr>\n",
       "      <th>40</th>\n",
       "      <td>40</td>\n",
       "      <td>44</td>\n",
       "      <td>40_dyeing_fabric_cotton_fabrics</td>\n",
       "      <td>[dyeing, fabric, cotton, fabrics, foam, the, d...</td>\n",
       "      <td>[Superheated Water Hydrolyzed Keratin: A New A...</td>\n",
       "    </tr>\n",
       "    <tr>\n",
       "      <th>41</th>\n",
       "      <td>41</td>\n",
       "      <td>44</td>\n",
       "      <td>41_emissions_carbon_and_the</td>\n",
       "      <td>[emissions, carbon, and, the, ghg, of, rice, i...</td>\n",
       "      <td>[Carbon footprint of crop production in Heilon...</td>\n",
       "    </tr>\n",
       "    <tr>\n",
       "      <th>42</th>\n",
       "      <td>42</td>\n",
       "      <td>44</td>\n",
       "      <td>42_the_of_and_to</td>\n",
       "      <td>[the, of, and, to, aquaculture, for, paddle, e...</td>\n",
       "      <td>[Perspectives on the application of closed shr...</td>\n",
       "    </tr>\n",
       "    <tr>\n",
       "      <th>43</th>\n",
       "      <td>43</td>\n",
       "      <td>43</td>\n",
       "      <td>43_coculture_fish_and_rice</td>\n",
       "      <td>[coculture, fish, and, rice, the, ricefish, of...</td>\n",
       "      <td>[Integrated rice-aquatic animals culture syste...</td>\n",
       "    </tr>\n",
       "    <tr>\n",
       "      <th>44</th>\n",
       "      <td>44</td>\n",
       "      <td>40</td>\n",
       "      <td>44_rice_the_of_endophytic</td>\n",
       "      <td>[rice, the, of, endophytic, and, growth, plant...</td>\n",
       "      <td>[Rice seed endophytes transmit into the plant ...</td>\n",
       "    </tr>\n",
       "    <tr>\n",
       "      <th>45</th>\n",
       "      <td>45</td>\n",
       "      <td>40</td>\n",
       "      <td>45_the_water_rice_and</td>\n",
       "      <td>[the, water, rice, and, of, in, to, climate, f...</td>\n",
       "      <td>[Covering rice demand in Southern China under ...</td>\n",
       "    </tr>\n",
       "    <tr>\n",
       "      <th>46</th>\n",
       "      <td>46</td>\n",
       "      <td>37</td>\n",
       "      <td>46_salinity_the_of_soil</td>\n",
       "      <td>[salinity, the, of, soil, and, in, to, for, of...</td>\n",
       "      <td>[Promoting Agricultural Sustainability in Semi...</td>\n",
       "    </tr>\n",
       "    <tr>\n",
       "      <th>47</th>\n",
       "      <td>47</td>\n",
       "      <td>37</td>\n",
       "      <td>47_of_the_concrete_ash</td>\n",
       "      <td>[of, the, concrete, ash, and, as, silica, husk...</td>\n",
       "      <td>[Heat absorbing glass from rice husk ash for a...</td>\n",
       "    </tr>\n",
       "    <tr>\n",
       "      <th>48</th>\n",
       "      <td>48</td>\n",
       "      <td>36</td>\n",
       "      <td>48_land_the_lulc_area</td>\n",
       "      <td>[land, the, lulc, area, and, of, in, to, chang...</td>\n",
       "      <td>[Spatiotemporal analysis of land use land cove...</td>\n",
       "    </tr>\n",
       "    <tr>\n",
       "      <th>49</th>\n",
       "      <td>49</td>\n",
       "      <td>33</td>\n",
       "      <td>49_paddlefish_of_the_and</td>\n",
       "      <td>[paddlefish, of, the, and, harvest, in, to, fi...</td>\n",
       "      <td>[Paddlefish Harvest in Oklahoma The Neosho Riv...</td>\n",
       "    </tr>\n",
       "    <tr>\n",
       "      <th>50</th>\n",
       "      <td>50</td>\n",
       "      <td>32</td>\n",
       "      <td>50_wetland_wetlands_the_and</td>\n",
       "      <td>[wetland, wetlands, the, and, of, ecological, ...</td>\n",
       "      <td>[Study on spatiotemporal changes of wetlands b...</td>\n",
       "    </tr>\n",
       "    <tr>\n",
       "      <th>51</th>\n",
       "      <td>51</td>\n",
       "      <td>30</td>\n",
       "      <td>51_iron_zn_of_and</td>\n",
       "      <td>[iron, zn, of, and, zinc, in, the, rice, to, as]</td>\n",
       "      <td>[Simultaneous Biofortification of Rice With Zi...</td>\n",
       "    </tr>\n",
       "    <tr>\n",
       "      <th>52</th>\n",
       "      <td>52</td>\n",
       "      <td>29</td>\n",
       "      <td>52_to_the_of_and</td>\n",
       "      <td>[to, the, of, and, in, australia, are, trees, ...</td>\n",
       "      <td>[Modelling tropical landscapes for ecological ...</td>\n",
       "    </tr>\n",
       "    <tr>\n",
       "      <th>53</th>\n",
       "      <td>53</td>\n",
       "      <td>23</td>\n",
       "      <td>53_zeolite_and_the_water</td>\n",
       "      <td>[zeolite, and, the, water, with, yield, manage...</td>\n",
       "      <td>[Zeolite increases paddy soil potassium fixati...</td>\n",
       "    </tr>\n",
       "    <tr>\n",
       "      <th>54</th>\n",
       "      <td>54</td>\n",
       "      <td>19</td>\n",
       "      <td>54_si_silicon_rice_the</td>\n",
       "      <td>[si, silicon, rice, the, and, of, in, soil, by...</td>\n",
       "      <td>[Exploring the potential: Can arsenic (As) res...</td>\n",
       "    </tr>\n",
       "    <tr>\n",
       "      <th>55</th>\n",
       "      <td>55</td>\n",
       "      <td>15</td>\n",
       "      <td>55_adsorption_catalyst_reaction_pore</td>\n",
       "      <td>[adsorption, catalyst, reaction, pore, metalor...</td>\n",
       "      <td>[Highly efficient CO2 conversion on a robust m...</td>\n",
       "    </tr>\n",
       "    <tr>\n",
       "      <th>56</th>\n",
       "      <td>56</td>\n",
       "      <td>14</td>\n",
       "      <td>56_amf_mycorrhizal_arbuscular_arbuscular mycor...</td>\n",
       "      <td>[amf, mycorrhizal, arbuscular, arbuscular myco...</td>\n",
       "      <td>[Arbuscular Mycorrhizal Fungi Response on Soil...</td>\n",
       "    </tr>\n",
       "    <tr>\n",
       "      <th>57</th>\n",
       "      <td>57</td>\n",
       "      <td>11</td>\n",
       "      <td>57_emergy_the_and_system</td>\n",
       "      <td>[emergy, the, and, system, of, economic, to, p...</td>\n",
       "      <td>[Emergy analysis of paddy farming in Hunan Pro...</td>\n",
       "    </tr>\n",
       "    <tr>\n",
       "      <th>58</th>\n",
       "      <td>58</td>\n",
       "      <td>11</td>\n",
       "      <td>58_the_sawah_of_soils</td>\n",
       "      <td>[the, sawah, of, soils, rice, and, soil, valle...</td>\n",
       "      <td>[Comparison of soil nutrient status of some ri...</td>\n",
       "    </tr>\n",
       "  </tbody>\n",
       "</table>\n",
       "</div>"
      ],
      "text/plain": [
       "    Topic  Count                                               Name  \\\n",
       "0       0    131                                  0_the_and_data_of   \n",
       "1       1    116                               1_grazing_of_the_and   \n",
       "2       2    101                                  2_cd_and_soil_the   \n",
       "3       3    101                      3_biochar_and_soil_of biochar   \n",
       "4       4     99               4_soil_bacterial_microbial_community   \n",
       "5       5     95                                5_farmers_the_of_to   \n",
       "6       6     94                                  6_rice_and_of_the   \n",
       "7       7     93                            7_emissions_and_the_ch4   \n",
       "8       8     87                                 8_and_of_the_yield   \n",
       "9       9     86                              9_soil_organic_and_of   \n",
       "10     10     85                              10_the_and_grazing_of   \n",
       "11     11     82                                 11_weed_and_of_the   \n",
       "12     12     82                                   12_the_of_and_to   \n",
       "13     13     80                        13_water_the_groundwater_of   \n",
       "14     14     79                                 14_land_the_of_and   \n",
       "15     15     78                                   15_the_of_and_in   \n",
       "16     16     76                        16_the_water_groundwater_of   \n",
       "17     17     74                     17_nitrogen_fertilizer_and_the   \n",
       "18     18     72                               18_energy_the_and_of   \n",
       "19     19     70                                  19_of_the_rice_in   \n",
       "20     20     67                            20_soil_tillage_and_the   \n",
       "21     21     65                                   21_the_of_to_and   \n",
       "22     22     65                                 22_rice_and_the_of   \n",
       "23     23     64                                 23_the_of_rice_and   \n",
       "24     24     61                       24_water_irrigation_and_rice   \n",
       "25     25     60                                   25_the_of_and_to   \n",
       "26     26     59                                 26_soil_and_the_in   \n",
       "27     27     59                             27_soil_soc_carbon_and   \n",
       "28     28     58                            28_the_water_and_runoff   \n",
       "29     29     57                            29_soil_quality_the_and   \n",
       "30     30     53                                   30_and_of_the_in   \n",
       "31     31     53                          31_pasture_of_grazing_and   \n",
       "32     32     52                         32_soil_phosphorus_and_the   \n",
       "33     33     52                        33_straw_paddy straw_of_the   \n",
       "34     34     51                           34_water_the_and_climate   \n",
       "35     35     51                            35_of_the_and_protected   \n",
       "36     36     50                        36_straw_burning_residue_of   \n",
       "37     37     49                            37_energy_the_of_drying   \n",
       "38     38     46                               38_arsenic_as_in_and   \n",
       "39     39     45                      39_ch4_emissions_methane_rice   \n",
       "40     40     44                    40_dyeing_fabric_cotton_fabrics   \n",
       "41     41     44                        41_emissions_carbon_and_the   \n",
       "42     42     44                                   42_the_of_and_to   \n",
       "43     43     43                         43_coculture_fish_and_rice   \n",
       "44     44     40                          44_rice_the_of_endophytic   \n",
       "45     45     40                              45_the_water_rice_and   \n",
       "46     46     37                            46_salinity_the_of_soil   \n",
       "47     47     37                             47_of_the_concrete_ash   \n",
       "48     48     36                              48_land_the_lulc_area   \n",
       "49     49     33                           49_paddlefish_of_the_and   \n",
       "50     50     32                        50_wetland_wetlands_the_and   \n",
       "51     51     30                                  51_iron_zn_of_and   \n",
       "52     52     29                                   52_to_the_of_and   \n",
       "53     53     23                           53_zeolite_and_the_water   \n",
       "54     54     19                             54_si_silicon_rice_the   \n",
       "55     55     15               55_adsorption_catalyst_reaction_pore   \n",
       "56     56     14  56_amf_mycorrhizal_arbuscular_arbuscular mycor...   \n",
       "57     57     11                           57_emergy_the_and_system   \n",
       "58     58     11                              58_the_sawah_of_soils   \n",
       "\n",
       "                                       Representation  \\\n",
       "0   [the, and, data, of, to, rice, mapping, in, fo...   \n",
       "1   [grazing, of, the, and, to, in, pasture, manag...   \n",
       "2   [cd, and, soil, the, of, in, heavy, cadmium, r...   \n",
       "3   [biochar, and, soil, of biochar, of, the, in, ...   \n",
       "4   [soil, bacterial, microbial, community, and, t...   \n",
       "5   [farmers, the, of, to, and, in, adoption, for,...   \n",
       "6   [rice, and, of, the, in, to, yield, for, crop,...   \n",
       "7   [emissions, and, the, ch4, in, n2o, of, ghg, r...   \n",
       "8   [and, of, the, yield, rice, soil, in, fertiliz...   \n",
       "9   [soil, organic, and, of, carbon, the, in, soc,...   \n",
       "10  [the, and, grazing, of, in, pasture, to, was, ...   \n",
       "11  [weed, and, of, the, in, rice, weeds, to, herb...   \n",
       "12  [the, of, and, to, farmers, in, farming, clima...   \n",
       "13  [water, the, groundwater, of, irrigation, in, ...   \n",
       "14  [land, the, of, and, in, china, to, paddy, cul...   \n",
       "15  [the, of, and, in, to, land, forest, for, is, on]   \n",
       "16  [the, water, groundwater, of, and, in, land, t...   \n",
       "17  [nitrogen, fertilizer, and, the, of, rice, in,...   \n",
       "18  [energy, the, and, of, production, in, to, ric...   \n",
       "19  [of, the, rice, in, and, to, pest, insects, as...   \n",
       "20  [soil, tillage, and, the, in, of, rice, straw,...   \n",
       "21  [the, of, to, and, in, rice, paddy, farming, f...   \n",
       "22  [rice, and, the, of, under, in, yield, to, cul...   \n",
       "23  [the, of, rice, and, in, production, to, farme...   \n",
       "24  [water, irrigation, and, rice, awd, the, in, y...   \n",
       "25  [the, of, and, to, in, landscape, cultural, se...   \n",
       "26  [soil, and, the, in, of, fertility, nutrient, ...   \n",
       "27  [soil, soc, carbon, and, in, the, of, organic,...   \n",
       "28  [the, water, and, runoff, of, in, drainage, to...   \n",
       "29  [soil, quality, the, and, soil quality, in, of...   \n",
       "30  [and, of, the, in, nitrogen, rice, cyanobacter...   \n",
       "31  [pasture, of, grazing, and, the, was, in, padd...   \n",
       "32  [soil, phosphorus, and, the, in, of, soils, to...   \n",
       "33  [straw, paddy straw, of, the, and, to, paddy, ...   \n",
       "34  [water, the, and, climate, of, to, in, for, ir...   \n",
       "35  [of, the, and, protected, to, we, forest, in, ...   \n",
       "36  [straw, burning, residue, of, the, rice straw,...   \n",
       "37  [energy, the, of, drying, is, and, husk, for, ...   \n",
       "38  [arsenic, as, in, and, rice, of, the, of as, t...   \n",
       "39  [ch4, emissions, methane, rice, ch4 emissions,...   \n",
       "40  [dyeing, fabric, cotton, fabrics, foam, the, d...   \n",
       "41  [emissions, carbon, and, the, ghg, of, rice, i...   \n",
       "42  [the, of, and, to, aquaculture, for, paddle, e...   \n",
       "43  [coculture, fish, and, rice, the, ricefish, of...   \n",
       "44  [rice, the, of, endophytic, and, growth, plant...   \n",
       "45  [the, water, rice, and, of, in, to, climate, f...   \n",
       "46  [salinity, the, of, soil, and, in, to, for, of...   \n",
       "47  [of, the, concrete, ash, and, as, silica, husk...   \n",
       "48  [land, the, lulc, area, and, of, in, to, chang...   \n",
       "49  [paddlefish, of, the, and, harvest, in, to, fi...   \n",
       "50  [wetland, wetlands, the, and, of, ecological, ...   \n",
       "51   [iron, zn, of, and, zinc, in, the, rice, to, as]   \n",
       "52  [to, the, of, and, in, australia, are, trees, ...   \n",
       "53  [zeolite, and, the, water, with, yield, manage...   \n",
       "54  [si, silicon, rice, the, and, of, in, soil, by...   \n",
       "55  [adsorption, catalyst, reaction, pore, metalor...   \n",
       "56  [amf, mycorrhizal, arbuscular, arbuscular myco...   \n",
       "57  [emergy, the, and, system, of, economic, to, p...   \n",
       "58  [the, sawah, of, soils, rice, and, soil, valle...   \n",
       "\n",
       "                                  Representative_Docs  \n",
       "0   [Phenology-Based Rice Paddy Mapping Using Mult...  \n",
       "1   [Balancing animal, pasture and environmental o...  \n",
       "2   [Vermicompost Supply Enhances Fragrant-Rice Yi...  \n",
       "3   [Comparative Metagenomics Reveals Enhanced Nut...  \n",
       "4   [Changes in soil bacterial community and enzym...  \n",
       "5   [The ironies of new innovation and the sunset ...  \n",
       "6   [Meeting the challenges of global rice product...  \n",
       "7   [Advancing effective methods for mitigating gr...  \n",
       "8   [Manure applications combined with chemical fe...  \n",
       "9   [Organic fertilizer made from food waste impro...  \n",
       "10  [Low-Intensity, High-Frequency Grazing Strateg...  \n",
       "11  [Morphological Traits Associated with Competit...  \n",
       "12  [Building climate-resilient food systems in sr...  \n",
       "13  [Groundwater Modeling for Sustainable Resource...  \n",
       "14  [Spatial-Temporal Change in Paddy Field and Dr...  \n",
       "15  [EMISSION REDUCTION OPTIONS FOR PEATLANDS IN T...  \n",
       "16  [Impact of Groundwater Abstraction on Hydrolog...  \n",
       "17  [The optimized nitrogen rate reduced ammonia e...  \n",
       "18  [Evaluation of energy balance and greenhouse g...  \n",
       "19  [An entomopathogenic fungus and a natural extr...  \n",
       "20  [The Effects of Tillage and Straw Incorporatio...  \n",
       "21  [\"One must do, five reductions\" technical prac...  \n",
       "22  [High Nitrogen Fertilization Modulates Morpho-...  \n",
       "23  [Economic and environmental indicators of sust...  \n",
       "24  [Growth, yield and water productivity of dry d...  \n",
       "25  [Tourist preferences for agricultural landscap...  \n",
       "26  [Biological soil conditioner with reduced rate...  \n",
       "27  [Opportunities and Challenges of Soil Carbon S...  \n",
       "28  [Paddy water managements for diffuse nitrogen ...  \n",
       "29  [Soil quality assessment of yellow clayey padd...  \n",
       "30  [Problems and prospects of cyanobacterial biof...  \n",
       "31  [Impacts of level of utilisation by grazing on...  \n",
       "32  [Rice-duck co-culture integrated different fer...  \n",
       "33  [A review on bioprocessing of paddy straw to e...  \n",
       "34  [A high-resolution assessment of climate chang...  \n",
       "35  [Half century of protected area dynamism in th...  \n",
       "36  [Environmental sustainability of bioethanol pr...  \n",
       "37  [Exergetic Evaluation of a Biomass Gasifier op...  \n",
       "38  [Mitigation of arsenic toxicity in rice grain ...  \n",
       "39  [Integrating low levels of organic fertilizer ...  \n",
       "40  [Superheated Water Hydrolyzed Keratin: A New A...  \n",
       "41  [Carbon footprint of crop production in Heilon...  \n",
       "42  [Perspectives on the application of closed shr...  \n",
       "43  [Integrated rice-aquatic animals culture syste...  \n",
       "44  [Rice seed endophytes transmit into the plant ...  \n",
       "45  [Covering rice demand in Southern China under ...  \n",
       "46  [Promoting Agricultural Sustainability in Semi...  \n",
       "47  [Heat absorbing glass from rice husk ash for a...  \n",
       "48  [Spatiotemporal analysis of land use land cove...  \n",
       "49  [Paddlefish Harvest in Oklahoma The Neosho Riv...  \n",
       "50  [Study on spatiotemporal changes of wetlands b...  \n",
       "51  [Simultaneous Biofortification of Rice With Zi...  \n",
       "52  [Modelling tropical landscapes for ecological ...  \n",
       "53  [Zeolite increases paddy soil potassium fixati...  \n",
       "54  [Exploring the potential: Can arsenic (As) res...  \n",
       "55  [Highly efficient CO2 conversion on a robust m...  \n",
       "56  [Arbuscular Mycorrhizal Fungi Response on Soil...  \n",
       "57  [Emergy analysis of paddy farming in Hunan Pro...  \n",
       "58  [Comparison of soil nutrient status of some ri...  "
      ]
     },
     "execution_count": 52,
     "metadata": {},
     "output_type": "execute_result"
    }
   ],
   "source": [
    "# Get the list of topics\n",
    "# Topic = the topic number. From the largest topic.\n",
    "#         \"-1\" is the generic topic. Genericr keywords are aggegrated here.\n",
    "# Count = Documents assigned to this topic\n",
    "# Name = Top 4 words of the topic based on probability\n",
    "# Representation = The list of words representing this topic\n",
    "# Representative_Docs = Documents assigned to this topic\n",
    "tm_summary = topic_model.get_topic_info()\n",
    "tm_summary"
   ]
  },
  {
   "cell_type": "code",
   "execution_count": 53,
   "metadata": {
    "id": "k9mN1tgZQupy"
   },
   "outputs": [],
   "source": [
    "# Save the topic model assets\n",
    "tm_folder_path = f'{ROOT_FOLDER_PATH}/{project_folder}/{settings[\"metadata\"][\"analysis_id\"]}'\n",
    "\n",
    "if not os.path.exists(tm_folder_path):\n",
    "  !mkdir $tm_folder_path\n",
    "\n",
    "tm_summary.to_csv(f'{tm_folder_path}/topic_model_info.csv', index=False)"
   ]
  },
  {
   "cell_type": "code",
   "execution_count": 54,
   "metadata": {
    "colab": {
     "base_uri": "https://localhost:8080/"
    },
    "id": "WuE0vkbp3fVL",
    "outputId": "aa8ebf45-cdd3-4161-9ac4-1343c91f47da"
   },
   "outputs": [
    {
     "data": {
      "text/plain": [
       "59"
      ]
     },
     "execution_count": 54,
     "metadata": {},
     "output_type": "execute_result"
    }
   ],
   "source": [
    "# Number of topics found\n",
    "found_topics = max(tm_summary.Topic) + 1\n",
    "found_topics"
   ]
  },
  {
   "cell_type": "code",
   "execution_count": 55,
   "metadata": {
    "colab": {
     "base_uri": "https://localhost:8080/"
    },
    "id": "KjKUcNMdwFHQ",
    "outputId": "b3549b7c-4c8a-4b82-8d87-6a46774e4694"
   },
   "outputs": [
    {
     "data": {
      "text/plain": [
       "True"
      ]
     },
     "execution_count": 55,
     "metadata": {},
     "output_type": "execute_result"
    }
   ],
   "source": [
    "# Confirm all documents are assigned\n",
    "sum(tm_summary.Count) == len(corpus)"
   ]
  },
  {
   "cell_type": "code",
   "execution_count": 56,
   "metadata": {
    "colab": {
     "base_uri": "https://localhost:8080/"
    },
    "id": "bGyoQT47xY_R",
    "outputId": "9affafe5-0ff7-4edf-d9f6-3d7a7eda04eb"
   },
   "outputs": [
    {
     "data": {
      "text/plain": [
       "[('the', 0.012358549365124002),\n",
       " ('and', 0.01099488008115488),\n",
       " ('data', 0.009542186131471127),\n",
       " ('of', 0.009364639742845765),\n",
       " ('to', 0.008954350309158355),\n",
       " ('rice', 0.00888742343302793),\n",
       " ('mapping', 0.008558701298137591),\n",
       " ('in', 0.00817366173532818),\n",
       " ('for', 0.007921013751405758),\n",
       " ('paddy', 0.007339595145542714)]"
      ]
     },
     "execution_count": 56,
     "metadata": {},
     "output_type": "execute_result"
    }
   ],
   "source": [
    "# Get top 10 terms for a topic\n",
    "topic_model.get_topic(0)"
   ]
  },
  {
   "cell_type": "code",
   "execution_count": 57,
   "metadata": {
    "colab": {
     "base_uri": "https://localhost:8080/"
    },
    "id": "PU99D2xhxoOY",
    "outputId": "4e90e928-9bbf-40c3-c3b5-a1a50abe82f0"
   },
   "outputs": [
    {
     "data": {
      "text/plain": [
       "['Phenology-Based Rice Paddy Mapping Using Multi-Source Satellite Imagery and a Fusion Algorithm Applied to the Poyang Lake Plain, Southern China Accurate information about the spatiotemporal patterns of rice paddies is essential for the assessment of food security, management of agricultural resources, and sustainability of ecosystems. However, accurate spatial datasets of rice paddy fields and multi-cropping at fine resolution are still lacking. Landsat observation is the primary source of remote sensing data that has continuously mapped regional rice paddy fields at a 30-m spatial resolution since the 1980s. However, Landsat data used for rice paddy studies reveals some challenges, especially data quality issues (e.g., cloud cover). Here, we present an algorithm that integrates time-series Landsat and MODIS (Moderate-resolution Imaging Spectroradiometer) images with a phenology-based approach (ILMP) to map rice paddy planting fields and multi-cropping patterns. First, a fusion of MODIS and Landsat data was used to reduce the cloud contamination, which added more information to the Landsat time series data. Second, the unique biophysical features of rice paddies during the flooding and open-canopy periods (which can be captured by the dynamics of the vegetation indices) were used to identify rice paddy regions as well as those of multi-cropping. This algorithm was tested for 2015 in Nanchang County, which is located on the Poyang Lake plain in southern China. We evaluated the resultant map of the rice paddy and multi-cropping systems using ground-truth data and Google Earth images. The overall accuracy and kappa coefficient of the rice paddy planting areas were 93.66% and 0.85, respectively. The overall accuracy and kappa coefficient of the multi-cropping regions were 92.95% and 0.89, respectively. In addition, our algorithm was more capable of capturing detailed information about areas with fragmented cropland than that of the National Land Cover Dataset (NLCD) from 2015. These results demonstrated the great potential of our algorithm for mapping rice paddy fields and using the multi-cropping index in complex landscapes in southern China.',\n",
       " 'Mapping a Paddy Rice Area in a Cloudy and Rainy Region Using Spatiotemporal Data Fusion and a Phenology-Based Algorithm The timely and accurate mapping of paddy rice is important to ensure food security and to protect the environment for sustainable development. Existing paddy rice mapping methods are often remote sensing technologies based on optical images. However, the availability of high-quality remotely sensed paddy rice growing area data is limited due to frequent cloud cover and rain over the southwest China. In order to overcome these limitations, we propose a paddy rice field mapping method by combining a spatiotemporal fusion algorithm and a phenology-based algorithm. First, a modified neighborhood similar pixel interpolator (MNSPI) time series approach was used to remove clouds on Sentinel-2 and Landsat 8 OLI images in 2020. A flexible spatiotemporal data fusion (FSDAF) model was used to fuse Sentinel-2 data and MODIS data to obtain multi-temporal Sentinel-2 images. Then, the fused remote sensing data were used to construct fusion time series data to produce time series vegetation indices (NDVI\\\\LSWI) having a high spatiotemporal resolution (10 m and & LE;16 days). On this basis, the unique physical characteristics of paddy rice during the transplanting period and other auxiliary data were combined to map paddy rice in Yongchuan District, Chongqing, China. Our results were validated by field survey data and showed a high accuracy of the proposed method indicated by an overall accuracy of 93% and the Kappa coefficient of 0.85. The paddy rice planting area map was also consistent with the official data of the third national land survey; at the town level, the correlation between official survey data and paddy rice area was 92.5%. The results show that this method can effectively map paddy rice fields in a cloudy and rainy area.',\n",
       " 'Mapping Paddy Rice Planting Area in Northeastern China Using Spatiotemporal Data Fusion and Phenology-Based Method Accurate paddy rice mapping with fine spatial detail is significant for ensuring food security and maintaining sustainable environmental development. In northeastern China, rice is planted in fragmented and patchy fields and its production has reached over 10% of the total amount of rice production in China, which has brought the increasing need for updated paddy rice maps in the region. Existing methods for mapping paddy rice are often based on remote sensing techniques by using optical images. However, it is difficult to obtain high quality time series remote sensing data due to the frequent cloud cover in rice planting area and low temporal sampling frequency of satellite imagery. Therefore, paddy rice maps are often developed using few Landsat or time series MODIS images, which has limited the accuracy of paddy rice mapping. To overcome these limitations, we presented a new strategy by integrating a spatiotemporal fusion algorithm and phenology-based algorithm to map paddy rice fields. First, we applied the spatial and temporal adaptive reflectance fusion model (STARFM) to fuse the Landsat and MODIS data and obtain multi-temporal Landsat-like images. From the fused Landsat-like images and the original Landsat images, we derived time series vegetation indices (VIs) with high temporal and high spatial resolution. Then, the phenology-based algorithm, considering the unique physical features of paddy rice during the flooding and transplanting phases/open-canopy period, was used to map paddy rice fields. In order to prove the effectiveness of the proposed strategy, we compared our results with those from other three classification strategies: (1) phenology-based classification based on original Landsat images only, (2) phenology-based classification based on original MODIS images only and (3) random forest (RF) classification based on both Landsat and Landsat-like images. The validation experiments indicate that our fusion-and phenology-based strategy could improve the overall accuracy of classification by 6.07% (from 92.12% to 98.19%) compared to using Landsat data only, and 8.96% (from 89.23% to 98.19%) compared to using MODIS data, and 4.66% (from93.53% to 98.19%) compared to using the RF algorithm. The results show that our new strategy, by integrating the spatiotemporal fusion algorithm and phenology-based algorithm, can provide an effective and robust approach to map paddy rice fields in regions with limited available images, as well as the areas with patchy and fragmented fields.']"
      ]
     },
     "execution_count": 57,
     "metadata": {},
     "output_type": "execute_result"
    }
   ],
   "source": [
    "# Get the top 10 documents for a topic\n",
    "topic_model.get_representative_docs(0)"
   ]
  },
  {
   "cell_type": "code",
   "execution_count": 58,
   "metadata": {
    "id": "1CgYkbHN9I2T"
   },
   "outputs": [],
   "source": [
    "# Others\n",
    "\n",
    "# # Get the number of documents per topic (same as in the table above)\n",
    "# topic_model.get_topic_freq(0)\n",
    "\n",
    "# # Get the main keywords per topic\n",
    "# topic_model.get_topics()"
   ]
  },
  {
   "cell_type": "code",
   "execution_count": 59,
   "metadata": {
    "colab": {
     "base_uri": "https://localhost:8080/"
    },
    "id": "JQKxUqHN9RT7",
    "outputId": "c572d73b-fc91-4c84-dc79-8f047b046aa2"
   },
   "outputs": [
    {
     "data": {
      "text/plain": [
       "{'calculate_probabilities': True,\n",
       " 'ctfidf_model': ClassTfidfTransformer(),\n",
       " 'embedding_model': None,\n",
       " 'hdbscan_model': KMeans(n_clusters=59),\n",
       " 'language': 'english',\n",
       " 'low_memory': False,\n",
       " 'min_topic_size': 10,\n",
       " 'n_gram_range': (1, 3),\n",
       " 'nr_topics': None,\n",
       " 'representation_model': None,\n",
       " 'seed_topic_list': None,\n",
       " 'top_n_words': 10,\n",
       " 'umap_model': UMAP(angular_rp_forest=True, metric='cosine', min_dist=0.0, n_components=5, n_jobs=1, random_state=100, tqdm_kwds={'bar_format': '{desc}: {percentage:3.0f}%| {bar} {n_fmt}/{total_fmt} [{elapsed}]', 'desc': 'Epochs completed', 'disable': True}),\n",
       " 'vectorizer_model': CountVectorizer(ngram_range=(1, 3)),\n",
       " 'verbose': True,\n",
       " 'zeroshot_min_similarity': 0.7,\n",
       " 'zeroshot_topic_list': None}"
      ]
     },
     "execution_count": 59,
     "metadata": {},
     "output_type": "execute_result"
    }
   ],
   "source": [
    "# Print the parameters used. (For reporting)\n",
    "topic_model.get_params()"
   ]
  },
  {
   "cell_type": "code",
   "execution_count": 60,
   "metadata": {
    "colab": {
     "base_uri": "https://localhost:8080/"
    },
    "id": "G8hwSK98RM9-",
    "outputId": "07a40193-c69a-4356-b1b0-ac721ef78c08"
   },
   "outputs": [
    {
     "name": "stdout",
     "output_type": "stream",
     "text": [
      "Done\n"
     ]
    }
   ],
   "source": [
    "tm_params = dict(topic_model.get_params())\n",
    "for key, value in tm_params.items():\n",
    "    tm_params[key]=  str(value)\n",
    "with open(f'{tm_folder_path}/topic_model_params.json', 'w') as f:\n",
    "    json.dump(tm_params, f, ensure_ascii=False, indent=4)\n",
    "    print('Done')"
   ]
  },
  {
   "cell_type": "code",
   "execution_count": 61,
   "metadata": {
    "colab": {
     "base_uri": "https://localhost:8080/"
    },
    "id": "5v4Wvn3ZAkZP",
    "outputId": "ea347717-a33e-40ad-ad2d-51798cbc5b5f"
   },
   "outputs": [
    {
     "name": "stderr",
     "output_type": "stream",
     "text": [
      "100%|██████████| 4/4 [00:05<00:00,  1.49s/it]\n"
     ]
    }
   ],
   "source": [
    "# Get the topic score for each paper and its assigned topic\n",
    "topic_distr, _ = topic_model.approximate_distribution(documents, batch_size=1000)\n",
    "distributions = [distr[topic] if topic != -1 else 0 for topic, distr in zip(topics, topic_distr)]"
   ]
  },
  {
   "cell_type": "code",
   "execution_count": 62,
   "metadata": {
    "colab": {
     "base_uri": "https://localhost:8080/"
    },
    "id": "6OTw5go4yVvM",
    "outputId": "7dfa090e-776f-4922-d611-325b1510ccab"
   },
   "outputs": [
    {
     "data": {
      "text/plain": [
       "array([[0.        , 0.        , 0.        , ..., 0.        , 0.        ,\n",
       "        0.        ],\n",
       "       [0.89327726, 0.        , 0.        , ..., 0.        , 0.        ,\n",
       "        0.        ],\n",
       "       [0.        , 0.        , 0.        , ..., 0.        , 0.        ,\n",
       "        0.        ],\n",
       "       ...,\n",
       "       [0.        , 0.        , 0.        , ..., 0.        , 0.        ,\n",
       "        0.        ],\n",
       "       [0.01475847, 0.        , 0.        , ..., 0.        , 0.        ,\n",
       "        0.        ],\n",
       "       [0.        , 0.        , 0.49956239, ..., 0.        , 0.        ,\n",
       "        0.        ]])"
      ]
     },
     "execution_count": 62,
     "metadata": {},
     "output_type": "execute_result"
    }
   ],
   "source": [
    "topic_distr"
   ]
  },
  {
   "cell_type": "code",
   "execution_count": 63,
   "metadata": {
    "colab": {
     "base_uri": "https://localhost:8080/",
     "height": 591
    },
    "id": "I7E0_6bv9hBp",
    "outputId": "06faea2f-1c00-4ca7-958b-4dd2dcb10c36"
   },
   "outputs": [
    {
     "data": {
      "text/html": [
       "<div>\n",
       "<style scoped>\n",
       "    .dataframe tbody tr th:only-of-type {\n",
       "        vertical-align: middle;\n",
       "    }\n",
       "\n",
       "    .dataframe tbody tr th {\n",
       "        vertical-align: top;\n",
       "    }\n",
       "\n",
       "    .dataframe thead th {\n",
       "        text-align: right;\n",
       "    }\n",
       "</style>\n",
       "<table border=\"1\" class=\"dataframe\">\n",
       "  <thead>\n",
       "    <tr style=\"text-align: right;\">\n",
       "      <th></th>\n",
       "      <th>UT</th>\n",
       "      <th>Document</th>\n",
       "      <th>Topic</th>\n",
       "      <th>Name</th>\n",
       "      <th>Representation</th>\n",
       "      <th>Representative_Docs</th>\n",
       "      <th>Top_n_words</th>\n",
       "      <th>Representative_document</th>\n",
       "      <th>Score</th>\n",
       "      <th>X_E</th>\n",
       "      <th>X_C</th>\n",
       "      <th>level0</th>\n",
       "      <th>cl99</th>\n",
       "      <th>cl-99</th>\n",
       "    </tr>\n",
       "  </thead>\n",
       "  <tbody>\n",
       "    <tr>\n",
       "      <th>0</th>\n",
       "      <td>WOS:000582696400017</td>\n",
       "      <td>Spatiotemporal variations in soil organic carb...</td>\n",
       "      <td>29</td>\n",
       "      <td>29_soil_quality_the_and</td>\n",
       "      <td>[soil, quality, the, and, soil quality, in, of...</td>\n",
       "      <td>[Soil quality assessment of yellow clayey padd...</td>\n",
       "      <td>soil - quality - the - and - soil quality - in...</td>\n",
       "      <td>False</td>\n",
       "      <td>0.156848</td>\n",
       "      <td>0.156848</td>\n",
       "      <td>30</td>\n",
       "      <td>30</td>\n",
       "      <td>False</td>\n",
       "      <td>False</td>\n",
       "    </tr>\n",
       "    <tr>\n",
       "      <th>1</th>\n",
       "      <td>WOS:000526820600124</td>\n",
       "      <td>Phenology-Based Rice Paddy Mapping Using Multi...</td>\n",
       "      <td>0</td>\n",
       "      <td>0_the_and_data_of</td>\n",
       "      <td>[the, and, data, of, to, rice, mapping, in, fo...</td>\n",
       "      <td>[Phenology-Based Rice Paddy Mapping Using Mult...</td>\n",
       "      <td>the - and - data - of - to - rice - mapping - ...</td>\n",
       "      <td>True</td>\n",
       "      <td>0.893277</td>\n",
       "      <td>0.893277</td>\n",
       "      <td>1</td>\n",
       "      <td>1</td>\n",
       "      <td>False</td>\n",
       "      <td>False</td>\n",
       "    </tr>\n",
       "    <tr>\n",
       "      <th>2</th>\n",
       "      <td>WOS:000493525500227</td>\n",
       "      <td>Eco-Efficiency Assessment of Intensive Rice Pr...</td>\n",
       "      <td>18</td>\n",
       "      <td>18_energy_the_and_of</td>\n",
       "      <td>[energy, the, and, of, production, in, to, ric...</td>\n",
       "      <td>[Evaluation of energy balance and greenhouse g...</td>\n",
       "      <td>energy - the - and - of - production - in - to...</td>\n",
       "      <td>False</td>\n",
       "      <td>0.745255</td>\n",
       "      <td>0.745255</td>\n",
       "      <td>19</td>\n",
       "      <td>19</td>\n",
       "      <td>False</td>\n",
       "      <td>False</td>\n",
       "    </tr>\n",
       "    <tr>\n",
       "      <th>3</th>\n",
       "      <td>WOS:000493911600089</td>\n",
       "      <td>Mitigation of greenhouse gas intensity by supp...</td>\n",
       "      <td>7</td>\n",
       "      <td>7_emissions_and_the_ch4</td>\n",
       "      <td>[emissions, and, the, ch4, in, n2o, of, ghg, r...</td>\n",
       "      <td>[Advancing effective methods for mitigating gr...</td>\n",
       "      <td>emissions - and - the - ch4 - in - n2o - of - ...</td>\n",
       "      <td>False</td>\n",
       "      <td>0.328442</td>\n",
       "      <td>0.328442</td>\n",
       "      <td>8</td>\n",
       "      <td>8</td>\n",
       "      <td>False</td>\n",
       "      <td>False</td>\n",
       "    </tr>\n",
       "    <tr>\n",
       "      <th>4</th>\n",
       "      <td>WOS:000468974600029</td>\n",
       "      <td>Up to 399mV bioelectricity generated by a rice...</td>\n",
       "      <td>47</td>\n",
       "      <td>47_of_the_concrete_ash</td>\n",
       "      <td>[of, the, concrete, ash, and, as, silica, husk...</td>\n",
       "      <td>[Heat absorbing glass from rice husk ash for a...</td>\n",
       "      <td>of - the - concrete - ash - and - as - silica ...</td>\n",
       "      <td>False</td>\n",
       "      <td>0.865050</td>\n",
       "      <td>0.865050</td>\n",
       "      <td>48</td>\n",
       "      <td>48</td>\n",
       "      <td>False</td>\n",
       "      <td>False</td>\n",
       "    </tr>\n",
       "  </tbody>\n",
       "</table>\n",
       "</div>"
      ],
      "text/plain": [
       "                    UT                                           Document  \\\n",
       "0  WOS:000582696400017  Spatiotemporal variations in soil organic carb...   \n",
       "1  WOS:000526820600124  Phenology-Based Rice Paddy Mapping Using Multi...   \n",
       "2  WOS:000493525500227  Eco-Efficiency Assessment of Intensive Rice Pr...   \n",
       "3  WOS:000493911600089  Mitigation of greenhouse gas intensity by supp...   \n",
       "4  WOS:000468974600029  Up to 399mV bioelectricity generated by a rice...   \n",
       "\n",
       "   Topic                     Name  \\\n",
       "0     29  29_soil_quality_the_and   \n",
       "1      0        0_the_and_data_of   \n",
       "2     18     18_energy_the_and_of   \n",
       "3      7  7_emissions_and_the_ch4   \n",
       "4     47   47_of_the_concrete_ash   \n",
       "\n",
       "                                      Representation  \\\n",
       "0  [soil, quality, the, and, soil quality, in, of...   \n",
       "1  [the, and, data, of, to, rice, mapping, in, fo...   \n",
       "2  [energy, the, and, of, production, in, to, ric...   \n",
       "3  [emissions, and, the, ch4, in, n2o, of, ghg, r...   \n",
       "4  [of, the, concrete, ash, and, as, silica, husk...   \n",
       "\n",
       "                                 Representative_Docs  \\\n",
       "0  [Soil quality assessment of yellow clayey padd...   \n",
       "1  [Phenology-Based Rice Paddy Mapping Using Mult...   \n",
       "2  [Evaluation of energy balance and greenhouse g...   \n",
       "3  [Advancing effective methods for mitigating gr...   \n",
       "4  [Heat absorbing glass from rice husk ash for a...   \n",
       "\n",
       "                                         Top_n_words  Representative_document  \\\n",
       "0  soil - quality - the - and - soil quality - in...                    False   \n",
       "1  the - and - data - of - to - rice - mapping - ...                     True   \n",
       "2  energy - the - and - of - production - in - to...                    False   \n",
       "3  emissions - and - the - ch4 - in - n2o - of - ...                    False   \n",
       "4  of - the - concrete - ash - and - as - silica ...                    False   \n",
       "\n",
       "      Score       X_E  X_C  level0   cl99  cl-99  \n",
       "0  0.156848  0.156848   30      30  False  False  \n",
       "1  0.893277  0.893277    1       1  False  False  \n",
       "2  0.745255  0.745255   19      19  False  False  \n",
       "3  0.328442  0.328442    8       8  False  False  \n",
       "4  0.865050  0.865050   48      48  False  False  "
      ]
     },
     "execution_count": 63,
     "metadata": {},
     "output_type": "execute_result"
    }
   ],
   "source": [
    "# Document information. Including the topic assignation\n",
    "dataset_clustering_results = topic_model.get_document_info(documents, df = corpus, metadata={\"Score\": distributions})\n",
    "\n",
    "# Standar format for report analysis\n",
    "dataset_clustering_results = dataset_clustering_results.drop(columns=['text'])\n",
    "dataset_clustering_results['X_E'] = dataset_clustering_results['Score']\n",
    "dataset_clustering_results['X_C'] = dataset_clustering_results['Topic'] + 1\n",
    "dataset_clustering_results['level0'] = dataset_clustering_results['Topic'] + 1\n",
    "dataset_clustering_results['cl99'] = False\n",
    "dataset_clustering_results['cl-99'] = False\n",
    "dataset_clustering_results.head()"
   ]
  },
  {
   "cell_type": "code",
   "execution_count": 64,
   "metadata": {
    "id": "eyQDhrjyc6Oh"
   },
   "outputs": [],
   "source": [
    "# Save the dataframe\n",
    "dataset_clustering_results.to_csv(f'{tm_folder_path}/dataset_minimal.csv', index=False)"
   ]
  },
  {
   "cell_type": "code",
   "execution_count": 65,
   "metadata": {
    "colab": {
     "base_uri": "https://localhost:8080/"
    },
    "id": "1RYcsXanZvrr",
    "outputId": "d625d86f-5897-4d75-8b32-54f2dd258ad3"
   },
   "outputs": [
    {
     "name": "stderr",
     "output_type": "stream",
     "text": [
      "2024-12-18 21:49:41,544 - BERTopic - WARNING: When you use `pickle` to save/load a BERTopic model,please make sure that the environments in which you saveand load the model are **exactly** the same. The version of BERTopic,its dependencies, and python need to remain the same.\n"
     ]
    }
   ],
   "source": [
    "# Save the topic model\n",
    "topic_model.save(f'{tm_folder_path}/topic_model_object.pck')"
   ]
  },
  {
   "cell_type": "markdown",
   "metadata": {
    "id": "SX1EBSOY3Pz1"
   },
   "source": [
    "\n",
    "\n",
    "---\n",
    "\n"
   ]
  }
 ],
 "metadata": {
  "colab": {
   "authorship_tag": "ABX9TyM4oE6dpT6UwjIg42kzzsWo",
   "include_colab_link": true,
   "provenance": [],
   "toc_visible": true
  },
  "kernelspec": {
   "display_name": "env-tm",
   "language": "python",
   "name": "python3"
  },
  "language_info": {
   "codemirror_mode": {
    "name": "ipython",
    "version": 3
   },
   "file_extension": ".py",
   "mimetype": "text/x-python",
   "name": "python",
   "nbconvert_exporter": "python",
   "pygments_lexer": "ipython3",
   "version": "3.11.7"
  }
 },
 "nbformat": 4,
 "nbformat_minor": 0
}
